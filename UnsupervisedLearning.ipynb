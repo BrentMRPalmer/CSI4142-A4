{
 "cells": [
  {
   "cell_type": "markdown",
   "id": "5314fbc0-84f1-4f33-810c-2f0937ac7ef6",
   "metadata": {},
   "source": [
    "# Assignment 4: Unsupervised Learning Clustering and Recommendations\n",
    "## Group 105\n",
    "- Natasa Bolic (300241734)\n",
    "- Brent Palmer (300193610)\n",
    "## Imports"
   ]
  },
  {
   "cell_type": "code",
   "execution_count": null,
   "id": "8d46fb2f-c06d-4df7-9388-a792a7b0ce3e",
   "metadata": {},
   "outputs": [],
   "source": []
  },
  {
   "cell_type": "markdown",
   "id": "fa3cf744-b83f-4b5e-b49b-41f924a67dda",
   "metadata": {},
   "source": [
    "## Introduction"
   ]
  },
  {
   "cell_type": "markdown",
   "id": "c10c7159-e9c0-4179-988b-0895a5bf31e1",
   "metadata": {},
   "source": [
    "## Dataset Description"
   ]
  },
  {
   "cell_type": "markdown",
   "id": "d5bf4e7b-5c25-4b74-b553-e76ac5715f94",
   "metadata": {},
   "source": [
    "## Loading Data and Basic Exploration"
   ]
  },
  {
   "cell_type": "markdown",
   "id": "bac5dd10-f9c0-4efa-bc16-ed7a9dd7675f",
   "metadata": {},
   "source": [
    "## Data Preparation"
   ]
  },
  {
   "cell_type": "markdown",
   "id": "83fe4fbe-2f9e-4a2c-bb4c-9f6bb873041d",
   "metadata": {},
   "source": [
    "## Studies"
   ]
  },
  {
   "cell_type": "markdown",
   "id": "f2389f45-28d5-4425-ab79-7018a3a30e03",
   "metadata": {},
   "source": [
    "## Conclusion"
   ]
  },
  {
   "cell_type": "markdown",
   "id": "70f1b891-f979-4f64-8f31-60a82fa0aa54",
   "metadata": {},
   "source": [
    "## References"
   ]
  },
  {
   "cell_type": "markdown",
   "id": "e1ce9902-db86-4d6e-8305-93c5fdd86f55",
   "metadata": {},
   "source": []
  }
 ],
 "metadata": {
  "kernelspec": {
   "display_name": "Python 3 (ipykernel)",
   "language": "python",
   "name": "python3"
  },
  "language_info": {
   "codemirror_mode": {
    "name": "ipython",
    "version": 3
   },
   "file_extension": ".py",
   "mimetype": "text/x-python",
   "name": "python",
   "nbconvert_exporter": "python",
   "pygments_lexer": "ipython3",
   "version": "3.11.9"
  }
 },
 "nbformat": 4,
 "nbformat_minor": 5
}
